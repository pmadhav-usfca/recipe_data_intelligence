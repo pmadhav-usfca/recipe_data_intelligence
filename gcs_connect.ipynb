{
 "cells": [
  {
   "cell_type": "markdown",
   "metadata": {},
   "source": [
    "#### Pushing files to GCP through google.cloud"
   ]
  },
  {
   "cell_type": "code",
   "execution_count": 1,
   "metadata": {},
   "outputs": [],
   "source": [
    "# Service account file necessary to connect to the bucket\n",
    "service_account_key_file =  '/Users/raghavendrakommavarapu/Documents/msds694_dist_computing/msds697-378721-8ba0b29dff82.json'"
   ]
  },
  {
   "cell_type": "code",
   "execution_count": 2,
   "metadata": {},
   "outputs": [],
   "source": [
    "from google.cloud import storage"
   ]
  },
  {
   "cell_type": "code",
   "execution_count": 3,
   "metadata": {},
   "outputs": [],
   "source": [
    "# initiate the client connection\n",
    "storage_client = storage.Client.from_service_account_json(service_account_key_file)\n",
    "bucket_name = 'msds697_bucket'"
   ]
  },
  {
   "cell_type": "code",
   "execution_count": 4,
   "metadata": {},
   "outputs": [
    {
     "data": {
      "text/plain": [
       "[<Bucket: msds697_bucket>, <Bucket: msds697_test>]"
      ]
     },
     "execution_count": 4,
     "metadata": {},
     "output_type": "execute_result"
    }
   ],
   "source": [
    "list(storage_client.list_buckets())"
   ]
  },
  {
   "cell_type": "code",
   "execution_count": 5,
   "metadata": {},
   "outputs": [],
   "source": [
    "bucket =  storage_client.bucket(bucket_name) # connect to the bucket"
   ]
  },
  {
   "cell_type": "code",
   "execution_count": 13,
   "metadata": {},
   "outputs": [
    {
     "data": {
      "text/plain": [
       "[<Blob: msds697_bucket, recipe_data.csv, 1677195156551894>,\n",
       " <Blob: msds697_bucket, recipe_sample.json, 1677197023341278>,\n",
       " <Blob: msds697_bucket, tmp1, 1677197011607675>,\n",
       " <Blob: msds697_bucket, tmp_text_file.txt, 1677196250804746>,\n",
       " <Blob: msds697_bucket, tmp_text_file3.txt, 1677253197056009>,\n",
       " <Blob: msds697_bucket, valid_books_ratings_tiny.csv, 1677194545957028>]"
      ]
     },
     "execution_count": 13,
     "metadata": {},
     "output_type": "execute_result"
    }
   ],
   "source": [
    "list(bucket.list_blobs()) # present contents in the bucket"
   ]
  },
  {
   "cell_type": "code",
   "execution_count": 17,
   "metadata": {},
   "outputs": [],
   "source": [
    "to_upload_blob = bucket.blob('tmp_text_file3.txt') # Name for the file on gcp"
   ]
  },
  {
   "cell_type": "code",
   "execution_count": 11,
   "metadata": {},
   "outputs": [
    {
     "name": "stdout",
     "output_type": "stream",
     "text": [
      "my lines are many\n",
      "my first line is this\n",
      "my second line is this\n"
     ]
    }
   ],
   "source": [
    "! cat tmp_text_file.txt"
   ]
  },
  {
   "cell_type": "code",
   "execution_count": 12,
   "metadata": {},
   "outputs": [],
   "source": [
    "to_upload_blob.upload_from_filename(\"tmp_text_file.txt\")"
   ]
  },
  {
   "cell_type": "code",
   "execution_count": 19,
   "metadata": {},
   "outputs": [
    {
     "name": "stdout",
     "output_type": "stream",
     "text": [
      "my lines are many\n",
      "my first line is this\n",
      "my second line is this\n",
      "\n"
     ]
    }
   ],
   "source": [
    "with to_upload_blob.open(\"r\") as f:\n",
    "    print(f.read()) # reading from GCS to check"
   ]
  },
  {
   "cell_type": "code",
   "execution_count": 14,
   "metadata": {},
   "outputs": [],
   "source": [
    "to_upload_blob = bucket.blob('tmp2')"
   ]
  },
  {
   "cell_type": "code",
   "execution_count": 15,
   "metadata": {},
   "outputs": [],
   "source": [
    "with to_upload_blob.open(\"w\") as f: \n",
    "        f.write(\"Hello world\") # just simple text"
   ]
  },
  {
   "cell_type": "code",
   "execution_count": 16,
   "metadata": {},
   "outputs": [
    {
     "name": "stdout",
     "output_type": "stream",
     "text": [
      "Hello world\n"
     ]
    }
   ],
   "source": [
    "with to_upload_blob.open(\"r\") as f:\n",
    "    print(f.read()) # reading that simple text from GCS"
   ]
  },
  {
   "cell_type": "code",
   "execution_count": null,
   "metadata": {},
   "outputs": [],
   "source": []
  }
 ],
 "metadata": {
  "kernelspec": {
   "display_name": "Python 3.10.0 ('ds_data_env')",
   "language": "python",
   "name": "python3"
  },
  "language_info": {
   "codemirror_mode": {
    "name": "ipython",
    "version": 3
   },
   "file_extension": ".py",
   "mimetype": "text/x-python",
   "name": "python",
   "nbconvert_exporter": "python",
   "pygments_lexer": "ipython3",
   "version": "3.10.0"
  },
  "orig_nbformat": 4,
  "vscode": {
   "interpreter": {
    "hash": "ff9016b3daffc381c3a13950446fc0b373726488fa12703175f40f8d9107c2c7"
   }
  }
 },
 "nbformat": 4,
 "nbformat_minor": 2
}
